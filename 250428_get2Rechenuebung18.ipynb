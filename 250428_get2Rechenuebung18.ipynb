{
 "cells": [
  {
   "cell_type": "code",
   "execution_count": 2,
   "metadata": {},
   "outputs": [],
   "source": [
    "# SetUp\n",
    "\n",
    "import numpy as np\n",
    "\n",
    "def fct_cplxVariations(name, z):\n",
    "  zReal = np.real(z)\n",
    "  zImag = np.imag(z)\n",
    "  zAbso = np.abs(z)\n",
    "  zAngR = np.angle(z)\n",
    "  zAngD = zAngD = zAngR / np.pi * 180\n",
    "\n",
    "  if zImag < 0:\n",
    "    zImag = -zImag\n",
    "    print(\"%s [arit.] = %.3f - %.3f j\" % (name, zReal, zImag))\n",
    "  else:\n",
    "    print(\"%s [arit.] = %.3f + %.3f j\" % (name, zReal, zImag))\n",
    "  \n",
    "  print(\"%s [trig.] = %.3f cos(%.3f [deg.]) + %.3f sin(%.3f [deg.]) j\" % (name, zAbso, zAngD, zAbso, zAngD))\n",
    "  print(\"%s [expo.] = %.3f exp(%.3f j)\" % (name, zAbso, zAngR))"
   ]
  },
  {
   "cell_type": "code",
   "execution_count": 33,
   "metadata": {},
   "outputs": [
    {
     "name": "stdout",
     "output_type": "stream",
     "text": [
      "I_1 [arit.] = 1.414 + 1.414 j\n",
      "I_1 [trig.] = 2.000 cos(45.000 [deg.]) + 2.000 sin(45.000 [deg.]) j\n",
      "I_1 [expo.] = 2.000 exp(0.785 j)\n",
      "\n",
      "I_2 [arit.] = 3.464 - 2.000 j\n",
      "I_2 [trig.] = 4.000 cos(-30.000 [deg.]) + 4.000 sin(-30.000 [deg.]) j\n",
      "I_2 [expo.] = 4.000 exp(-0.524 j)\n",
      "\n",
      "I   [arit.] = 4.878 - 0.586 j\n",
      "I   [trig.] = 4.913 cos(-6.847 [deg.]) + 4.913 sin(-6.847 [deg.]) j\n",
      "I   [expo.] = 4.913 exp(-0.120 j)\n"
     ]
    }
   ],
   "source": [
    "# Aufgabe 1\n",
    "\n",
    "I_1 = np.sqrt(2) + np.sqrt(2) * 1j\n",
    "I_2 = 4 * np.exp(-1j * np.pi/6)\n",
    "I   = I_1 + I_2\n",
    "\n",
    "fct_cplxVariations(\"I_1\", I_1)\n",
    "print()\n",
    "fct_cplxVariations(\"I_2\", I_2)\n",
    "print()\n",
    "fct_cplxVariations(\"I  \", I)"
   ]
  },
  {
   "cell_type": "code",
   "execution_count": null,
   "metadata": {},
   "outputs": [
    {
     "name": "stdout",
     "output_type": "stream",
     "text": [
      "Z_1 [arit.] = 1000.000 + 2000.000 j\n",
      "Z_1 [trig.] = 2236.068 cos(63.435 [deg.]) + 2236.068 sin(63.435 [deg.]) j\n",
      "Z_1 [expo.] = 2236.068 exp(1.107 j)\n",
      "\n",
      "Z_2 [arit.] = 1000.000 + 4358.899 j\n",
      "Z_2 [trig.] = 4472.136 cos(77.079 [deg.]) + 4472.136 sin(77.079 [deg.]) j\n",
      "Z_2 [expo.] = 4472.136 exp(1.345 j)\n",
      "S_2 == 2 * S_1 --> correct!\n"
     ]
    }
   ],
   "source": [
    "# Aufgabe 2\n",
    "\n",
    "R = 1000\n",
    "f = 50\n",
    "L = np.sqrt(19) / np.pi * 10\n",
    "\n",
    "Z_1 = R + 2000 * 1j\n",
    "Z_2 = R + 2 * np.pi * f * L * 1j\n",
    "\n",
    "fct_cplxVariations(\"Z_1\", Z_1)\n",
    "print()\n",
    "fct_cplxVariations(\"Z_2\", Z_2)\n",
    "print()\n",
    "\n",
    "if np.abs(Z_2) == 2 * np.abs(Z_1):\n",
    "  print(\"S_2 == 2 * S_1 --> richtig!\")\n",
    "else:\n",
    "  print(\"S_2 != 2 * S_1 --> falsch!\")"
   ]
  },
  {
   "cell_type": "code",
   "execution_count": 3,
   "metadata": {},
   "outputs": [
    {
     "name": "stdout",
     "output_type": "stream",
     "text": [
      "Referenz (Parallelimpedanz):\n",
      "Z_p [arit.] = 20.965 - 10.275 j\n",
      "Z_p [trig.] = 23.347 cos(-26.109 [deg.]) + 23.347 sin(-26.109 [deg.]) j\n",
      "Z_p [expo.] = 23.347 exp(-0.456 j)\n",
      "\n",
      "Rechnungsergebnis (Reihenimpedanz):\n",
      "Z_r [arit.] = 20.965 - 10.275 j\n",
      "Z_r [trig.] = 23.347 cos(-26.109 [deg.]) + 23.347 sin(-26.109 [deg.]) j\n",
      "Z_r [expo.] = 23.347 exp(-0.456 j)\n"
     ]
    }
   ],
   "source": [
    "# Aufgabe 3\n",
    "\n",
    "# exemplarische Werte\n",
    "\n",
    "R_p   = 26\n",
    "C_p   = 3E-9\n",
    "omega = 2 * np.pi * 1E6\n",
    "\n",
    "Z_p = - R_p * 1j / (R_p * omega * C_p - 1j)\n",
    "\n",
    "print(\"Referenz (Parallelimpedanz):\")\n",
    "fct_cplxVariations(\"Z_p\", Z_p)\n",
    "print()\n",
    "\n",
    "R_r = R_p / np.sqrt(R_p**2 * omega**2 * C_p**2 + 1) * np.sin(np.arctan(1 / (R_p * omega * C_p)))\n",
    "C_r = -1 / omega * np.sqrt(R_p**2 * omega**2 * C_p**2 + 1) / (R_p * -np.cos(np.arctan(1 / (R_p * omega * C_p))))\n",
    "\n",
    "Z_r = R_r - 1j / (omega * C_r)\n",
    "\n",
    "print(\"Rechnungsergebnis (Reihenimpedanz):\")\n",
    "fct_cplxVariations(\"Z_r\", Z_r)"
   ]
  },
  {
   "cell_type": "code",
   "execution_count": 4,
   "metadata": {},
   "outputs": [
    {
     "name": "stdout",
     "output_type": "stream",
     "text": [
      "errechnete Loesung:\n",
      "Z [arit.] = 0.244 + 1.805 j\n",
      "Z [trig.] = 1.821 cos(82.304 [deg.]) + 1.821 sin(82.304 [deg.]) j\n",
      "Z [expo.] = 1.821 exp(1.436 j)\n",
      "\n",
      "Kontrolle:\n",
      "Z [arit.] = 0.244 + 1.805 j\n",
      "Z [trig.] = 1.821 cos(82.304 [deg.]) + 1.821 sin(82.304 [deg.]) j\n",
      "Z [expo.] = 1.821 exp(1.436 j)\n"
     ]
    }
   ],
   "source": [
    "# Aufgabe 4\n",
    "\n",
    "f     = 50\n",
    "omega = 2 * np.pi * f\n",
    "\n",
    "R = np.sqrt(136 / 41) * np.cos(np.arctan(3 / 5) + np.arctan(5 / 4))\n",
    "L = 1 / omega * np.sqrt(136 / 41) * np.sin(np.arctan(3 / 5) + np.arctan(5 / 4))\n",
    "\n",
    "Z = R + 1j * omega * L\n",
    "\n",
    "print(\"errechnete Loesung:\")\n",
    "fct_cplxVariations(\"Z\", Z)\n",
    "\n",
    "Z = (20 + 12j) / (8 - 10 * 1j)\n",
    "\n",
    "print(\"\\nKontrolle:\")\n",
    "fct_cplxVariations(\"Z\", Z)\n"
   ]
  },
  {
   "cell_type": "code",
   "execution_count": 5,
   "metadata": {},
   "outputs": [
    {
     "name": "stdout",
     "output_type": "stream",
     "text": [
      "errechnete Loesung:\n",
      "Z [arit.] = 70.296 - 58.943 j\n",
      "Z [trig.] = 91.738 cos(-39.980 [deg.]) + 91.738 sin(-39.980 [deg.]) j\n",
      "Z [expo.] = 91.738 exp(-0.698 j)\n",
      "\n",
      "Kontrolle:\n",
      "Z [arit.] = 70.296 - 58.941 j\n",
      "Z [trig.] = 91.737 cos(-39.979 [deg.]) + 91.737 sin(-39.979 [deg.]) j\n",
      "Z [expo.] = 91.737 exp(-0.698 j)\n"
     ]
    }
   ],
   "source": [
    "# Aufgabe 5\n",
    "\n",
    "f     = 1E6\n",
    "omega = 2 * np.pi * f\n",
    "R     = 119.72\n",
    "C     = 1.1147E-9\n",
    "\n",
    "Z = (R * -1j / omega / C) / (R - 1j / omega / C)\n",
    "\n",
    "print(\"errechnete Loesung:\")\n",
    "fct_cplxVariations(\"Z\", Z)\n",
    "\n",
    "Z = (10 - 5j) * (10 - 2j) / (2 + 1j) + 50 * np.exp(-np.pi / 12 * 1j)\n",
    "\n",
    "print(\"\\nKontrolle:\")\n",
    "fct_cplxVariations(\"Z\", Z)\n",
    "\n"
   ]
  }
 ],
 "metadata": {
  "kernelspec": {
   "display_name": "Python 3",
   "language": "python",
   "name": "python3"
  },
  "language_info": {
   "codemirror_mode": {
    "name": "ipython",
    "version": 3
   },
   "file_extension": ".py",
   "mimetype": "text/x-python",
   "name": "python",
   "nbconvert_exporter": "python",
   "pygments_lexer": "ipython3",
   "version": "3.10.12"
  }
 },
 "nbformat": 4,
 "nbformat_minor": 2
}
