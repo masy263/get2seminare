{
 "cells": [
  {
   "cell_type": "code",
   "execution_count": 8,
   "metadata": {},
   "outputs": [
    {
     "name": "stdout",
     "output_type": "stream",
     "text": [
      "C      = 87.952416 nF\n",
      "Q      = 15.217391\n",
      "R      = 1981.896165 Ohm\n",
      "I_rEff = 116.050479 mA\n",
      "f_1    = 82.740474 Hz\n",
      "f_2    = -43.509541 Hz\n"
     ]
    }
   ],
   "source": [
    "import numpy as np\n",
    "\n",
    "U_q     = 230\n",
    "U_Cr    = 3500\n",
    "L       = 80\n",
    "f_r     = 60\n",
    "omega_0 = f_r * 2 * np.pi\n",
    "\n",
    "# a) Kapazitaet C\n",
    "\n",
    "C = 1 / (L * omega_0**2)\n",
    "\n",
    "print(\"C      = %f nF\" % (C * 10**9))\n",
    "\n",
    "# b) Guete Q\n",
    "\n",
    "Q = U_Cr / U_q\n",
    "\n",
    "print(\"Q      = %f\" % Q)\n",
    "\n",
    "# c) Effektivstrom im Resonanzfall I_rEff\n",
    "\n",
    "R      = 1 / Q * np.sqrt(omega_0**2 * L**2)\n",
    "I_rEff = U_q / R\n",
    "\n",
    "print(\"R      = %f Ohm\" % R)\n",
    "print(\"I_rEff = %f mA\" % (I_rEff * 1E3))\n",
    "\n",
    "# d) f(I_Eff = 1/10 I_rEff)\n",
    "\n",
    "omega_1 = omega_0 * (np.sqrt(99) / 2 / Q + np.sqrt(99 / 4 / Q**2 + 1))\n",
    "print(\"f_1    = %f Hz\" % (omega_1 / 2 / np.pi))\n",
    "\n",
    "omega_2 = omega_0 * (np.sqrt(99) / 2 / Q - np.sqrt(99 / 4 / Q**2 + 1))\n",
    "print(\"f_2    = %f Hz\" % (omega_2 / 2 / np.pi))\n"
   ]
  }
 ],
 "metadata": {
  "kernelspec": {
   "display_name": "Python 3",
   "language": "python",
   "name": "python3"
  },
  "language_info": {
   "codemirror_mode": {
    "name": "ipython",
    "version": 3
   },
   "file_extension": ".py",
   "mimetype": "text/x-python",
   "name": "python",
   "nbconvert_exporter": "python",
   "pygments_lexer": "ipython3",
   "version": "3.10.12"
  }
 },
 "nbformat": 4,
 "nbformat_minor": 2
}
