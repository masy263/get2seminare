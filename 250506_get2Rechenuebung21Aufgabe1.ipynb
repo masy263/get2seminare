{
 "cells": [
  {
   "cell_type": "code",
   "execution_count": null,
   "metadata": {},
   "outputs": [],
   "source": [
    "#SetUp\n",
    "\n",
    "import numpy as np\n",
    "import matplotlib.pyplot as plt\n",
    "\n",
    "plt.style.use('dark_background')\n"
   ]
  },
  {
   "cell_type": "code",
   "execution_count": 62,
   "metadata": {},
   "outputs": [
    {
     "name": "stdout",
     "output_type": "stream",
     "text": [
      "C       = 202.609521 pF\n",
      "13.11283861420547\n",
      "76261.13837141827\n"
     ]
    }
   ],
   "source": [
    "# Aufgabe 1\n",
    "\n",
    "R   = 20\n",
    "L   = 500E-6\n",
    "Q   = 30\n",
    "f_r = 500E+3\n",
    "w_r = f_r * 2 * np.pi\n",
    "\n",
    "C = L / (R**2 + w_r**2 * L**2)\n",
    "\n",
    "print(\"C       = %f pF\" % (C * 1E12))\n",
    "\n",
    "G_p = w_r * C / Q - R / (R**2 + w_r**2 * L**2)\n",
    "R_p = 1 / G_p\n",
    "\n",
    "print(G_p * 1E6)\n",
    "print(R_p)"
   ]
  },
  {
   "cell_type": "code",
   "execution_count": 53,
   "metadata": {},
   "outputs": [
    {
     "name": "stdout",
     "output_type": "stream",
     "text": [
      "C_1 = 109.834414 uF\n",
      "C_2 = 277.136426 uF\n"
     ]
    }
   ],
   "source": [
    "# Aufgabe 2\n",
    "\n",
    "U = 230\n",
    "I = 32\n",
    "f = 50\n",
    "w = f * 2 * np.pi\n",
    "cosPhi0 = 0.78\n",
    "cosPhi1 = 0.9\n",
    "cosPhi2 = 1\n",
    "\n",
    "C_1 = -I * cosPhi0 / U / w * (np.tan(np.arccos(cosPhi1)) - np.tan(np.arccos(cosPhi0)))\n",
    "C_2 =  I * cosPhi0 / U / w * np.tan(np.arccos(cosPhi0))\n",
    "\n",
    "print(\"C_1 = %f uF\" % (C_1 * 1E6))\n",
    "print(\"C_2 = %f uF\" % (C_2 * 1E6))\n"
   ]
  },
  {
   "cell_type": "code",
   "execution_count": 58,
   "metadata": {},
   "outputs": [
    {
     "name": "stdout",
     "output_type": "stream",
     "text": [
      "C_1 = 105.440005 uF\n",
      "Der Leitungsverlust wird um 32.587258 % reduziert.\n"
     ]
    }
   ],
   "source": [
    "# Aufgabe 4\n",
    "\n",
    "U       = 230\n",
    "P       = 3700\n",
    "f       = 50\n",
    "w       = f * 2 * np.pi\n",
    "cosPhi0 = 0.78\n",
    "cosPhi1 = 0.95\n",
    "\n",
    "C_1 = -P / U**2 / w * (np.tan(np.arccos(cosPhi1)) - np.tan(np.arccos(cosPhi0)))\n",
    "\n",
    "print(\"C_1 = %f uF\" % (C_1 * 1E6))\n",
    "\n",
    "DeltaP_vRel = cosPhi0**2 / cosPhi1**2 - 1\n",
    "\n",
    "print(\"Der Leitungsverlust wird um %f %c reduziert.\" % (-DeltaP_vRel * 1E2, 37))"
   ]
  }
 ],
 "metadata": {
  "kernelspec": {
   "display_name": "Python 3",
   "language": "python",
   "name": "python3"
  },
  "language_info": {
   "codemirror_mode": {
    "name": "ipython",
    "version": 3
   },
   "file_extension": ".py",
   "mimetype": "text/x-python",
   "name": "python",
   "nbconvert_exporter": "python",
   "pygments_lexer": "ipython3",
   "version": "3.10.12"
  }
 },
 "nbformat": 4,
 "nbformat_minor": 2
}
