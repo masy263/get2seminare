{
 "cells": [
  {
   "cell_type": "code",
   "execution_count": 4,
   "id": "a2ab30e7",
   "metadata": {},
   "outputs": [
    {
     "name": "stdout",
     "output_type": "stream",
     "text": [
      "S1 = 533.3333\n",
      "S2 = -533.3333j\n",
      "S3 = 533.3333j\n",
      "S  = (533.3333+0j)\n",
      "P  = 533.3333\n",
      "Q2 = -533.3333\n",
      "Q3 = 533.3333\n",
      "Q  = 0.0\n"
     ]
    }
   ],
   "source": [
    "# SetUp\n",
    "\n",
    "import numpy as np\n",
    "import matplotlib.pyplot as plt\n",
    "\n",
    "plt.rcParams['figure.figsize'] = [16, 9]\n",
    "\n",
    "# Aufgabe 3\n",
    "\n",
    "USt = 400 / np.sqrt(3)\n",
    "\n",
    "U1 = USt\n",
    "U2 = USt * np.exp(-1j * 2 / 3 * np.pi)\n",
    "U3 = USt * np.exp(-1j * 4 / 3 * np.pi)\n",
    "\n",
    "Z1 = 100\n",
    "Z2 = 100 * np.exp(-1j * np.pi / 2)\n",
    "Z3 = 100 * np.exp(+1j * np.pi / 2)\n",
    "\n",
    "S1 = U1 * np.conj(U1 / Z1)\n",
    "S2 = U2 * np.conj(U2 / Z2)\n",
    "S3 = U3 * np.conj(U3 / Z3)\n",
    "\n",
    "S1 = np.round(S1 * 1e4) * 1e-4\n",
    "S2 = np.round(S2 * 1e4) * 1e-4\n",
    "S3 = np.round(S3 * 1e4) * 1e-4\n",
    "S  = S1 + S2 + S3\n",
    "\n",
    "P  = np.real(S)\n",
    "Q2 = np.imag(S2)\n",
    "Q3 = np.imag(S3)\n",
    "Q  = np.imag(S)\n",
    "\n",
    "print(f\"{S1 = }\")\n",
    "print(f\"{S2 = }\")\n",
    "print(f\"{S3 = }\")\n",
    "print(f\"{S  = }\")\n",
    "print(f\"{P  = }\")\n",
    "print(f\"{Q2 = }\")\n",
    "print(f\"{Q3 = }\")\n",
    "print(f\"{Q  = }\")\n",
    "\n"
   ]
  }
 ],
 "metadata": {
  "kernelspec": {
   "display_name": "Python 3",
   "language": "python",
   "name": "python3"
  },
  "language_info": {
   "codemirror_mode": {
    "name": "ipython",
    "version": 3
   },
   "file_extension": ".py",
   "mimetype": "text/x-python",
   "name": "python",
   "nbconvert_exporter": "python",
   "pygments_lexer": "ipython3",
   "version": "3.10.12"
  }
 },
 "nbformat": 4,
 "nbformat_minor": 5
}
