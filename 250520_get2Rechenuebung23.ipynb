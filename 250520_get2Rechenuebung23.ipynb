{
 "cells": [
  {
   "cell_type": "code",
   "execution_count": null,
   "id": "481f47cd",
   "metadata": {},
   "outputs": [],
   "source": [
    "# SetUp\n",
    "\n",
    "import numpy as np\n",
    "import matplotlib.pyplot as plt\n",
    "\n",
    "plt.rcParams['figure.figsize'] = [16, 9]"
   ]
  },
  {
   "cell_type": "code",
   "execution_count": null,
   "id": "a2ab30e7",
   "metadata": {},
   "outputs": [],
   "source": [
    "# Aufgabe 1\n",
    "\n",
    "def fct_rechteckFourier(w, t, A, N):\n",
    "  ret = np.zeros(len(t))\n",
    "  n   = 1\n",
    "\n",
    "  while (n <= N):\n",
    "    Bn  = 2 * A / n / np.pi * (1 - np.cos(n * np.pi))\n",
    "    ret = ret + Bn * np.sin(n * w * t)\n",
    "    n   = n + 2\n",
    "\n",
    "  return ret\n",
    "\n",
    "A  = 1\n",
    "N  = np.array([1, 3, 15, 63, 255])\n",
    "T  = 1\n",
    "w  = 2 * np.pi / T\n",
    "\n",
    "fig, ax = plt.subplots()\n",
    "\n",
    "it = 0\n",
    "\n",
    "while it < len(N):\n",
    "  dt = T / (N[it] * 71)\n",
    "  t  = np.arange(0, 3 * T, dt)\n",
    "  ax.plot(t, fct_rechteckFourier(w, t, A , N[it]), label=\"n = \" + str(N[it]))\n",
    "  it = it + 1\n",
    "\n",
    "ax.grid()\n",
    "ax.legend(loc='upper right', shadow=True)\n",
    "\n",
    "plt.show()"
   ]
  },
  {
   "cell_type": "code",
   "execution_count": null,
   "id": "3a868ef4",
   "metadata": {},
   "outputs": [],
   "source": [
    "# Aufgabe 2\n",
    "\n",
    "U0 = 4\n",
    "U1 = 4\n",
    "R  = 8\n",
    "XL = 8\n",
    "XC = 8\n",
    "\n",
    "# Wende Superpositionsprinzip an; Rechne Strom fuer jede Spannungsquelle einzeln aus\n",
    "\n",
    "# =====================================\n",
    "# 1. Zweipol: nur R\n",
    "\n",
    "I0 = U0 / R\n",
    "I1 = U1 / R\n",
    "\n",
    "I  = I0 + I1\n",
    "\n",
    "print(\"Fuer den 1. Zweipol betraegt der Effektivstrom: I = %8.3f mA\" % (I * 1e3))\n",
    "\n",
    "# =====================================\n",
    "# 2. Zweipol: R + jwL\n",
    "# Fuer Gleichspannungen gilt: w = 0 -> wL = 0 -> Z = R\n",
    "\n",
    "I0 = U0 / R\n",
    "I1 = U1 / np.sqrt(128) * np.exp(-1j * np.pi / 4)\n",
    "\n",
    "I  = np.abs(I0 + I1)\n",
    "print(\"Fuer den 2. Zweipol betraegt der Effektivstrom: I = %8.3f mA\" % (I * 1e3))\n",
    "\n",
    "# =====================================\n",
    "# 3. Zweipol: R + 1 / (jwC)\n",
    "# Fuer Gleichspannungen gilt: w = 0 -> 1 / (wC) = inf. -> Z = inf -> I = 0\n",
    "\n",
    "I0 = 0\n",
    "I1 = U1 / np.sqrt(128) * np.exp(1j * np.pi / 4)\n",
    "\n",
    "I  = np.abs(I0 + I1)\n",
    "print(\"Fuer den 3. Zweipol betraegt der Effektivstrom: I = %8.3f mA\" % (I * 1e3))\n"
   ]
  }
 ],
 "metadata": {
  "kernelspec": {
   "display_name": "Python 3",
   "language": "python",
   "name": "python3"
  },
  "language_info": {
   "codemirror_mode": {
    "name": "ipython",
    "version": 3
   },
   "file_extension": ".py",
   "mimetype": "text/x-python",
   "name": "python",
   "nbconvert_exporter": "python",
   "pygments_lexer": "ipython3",
   "version": "3.10.12"
  }
 },
 "nbformat": 4,
 "nbformat_minor": 5
}
