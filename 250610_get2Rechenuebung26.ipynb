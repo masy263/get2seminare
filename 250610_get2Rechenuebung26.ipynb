{
 "cells": [
  {
   "cell_type": "code",
   "execution_count": null,
   "id": "0612b5a0",
   "metadata": {},
   "outputs": [],
   "source": [
    "# SetUp\n",
    "\n",
    "import numpy as np\n",
    "import matplotlib.pyplot as plt\n",
    "\n",
    "plt.rcParams['figure.figsize'] = [16, 9]"
   ]
  },
  {
   "cell_type": "code",
   "execution_count": null,
   "id": "efff2c5e",
   "metadata": {},
   "outputs": [],
   "source": [
    "# Aufgabe 1\n",
    "\n",
    "I = 1\n",
    "a = 1\n",
    "\n",
    "r = np.arange(-a / 2, a / 2, a / 100)\n",
    "\n",
    "H1 = I / np.pi * 4 * r / (a**2 - 4 * r**2)\n",
    "H2 = I / np.pi * 2 * a / (a**2 - 4 * r**2)\n",
    "\n",
    "fig, ax = plt.subplots()\n",
    "\n",
    "ax.plot(r, H1)\n",
    "ax.plot(r, H2)\n",
    "ax.grid()\n",
    "\n",
    "plt.show()"
   ]
  },
  {
   "cell_type": "code",
   "execution_count": null,
   "id": "5f5fc6d9",
   "metadata": {},
   "outputs": [],
   "source": [
    "# Aufgabe 2\n",
    "\n",
    "R  = 1e-2\n",
    "dR = R / 25\n",
    "\n",
    "r1 = R\n",
    "r2 = R + r1\n",
    "r3 = R + r2\n",
    "r4 = R + r3\n",
    "\n",
    "I = 1\n",
    "\n",
    "r = np.arange(0,r4 + R + dR, dR)\n",
    "H = np.zeros(len(r))\n",
    "\n",
    "nxt = 1\n",
    "it  = 0\n",
    "while it < len(r):\n",
    "\n",
    "  if nxt > 0 and r[it] > r4:\n",
    "    H[it]   = 0\n",
    "    nxt = 0\n",
    "\n",
    "  if nxt > 0 and r[it] > r3:\n",
    "    H[it] = I / 2 / np.pi / r[it] * (1 - (r[it]**2 - r3**2) / (r4**2 - r3**2))\n",
    "    nxt = 0\n",
    "\n",
    "  if nxt > 0 and r[it] > r2:\n",
    "    H[it] = I / 2 / np.pi / r[it]\n",
    "    nxt = 0\n",
    "\n",
    "  if nxt > 0 and r[it] > r1:\n",
    "    H[it] = I / 2 / np.pi / r[it] * (r[it]**2 - r1**2) / (r2**2 - r1**2)\n",
    "    nxt = 0\n",
    "\n",
    "  if nxt > 0:\n",
    "    H[it] = 0\n",
    "\n",
    "  nxt = 1\n",
    "  it  = it + 1\n",
    "\n",
    "plt.plot(r,H)\n",
    "plt.show()\n",
    "\n"
   ]
  }
 ],
 "metadata": {
  "kernelspec": {
   "display_name": "Python 3",
   "language": "python",
   "name": "python3"
  },
  "language_info": {
   "codemirror_mode": {
    "name": "ipython",
    "version": 3
   },
   "file_extension": ".py",
   "mimetype": "text/x-python",
   "name": "python",
   "nbconvert_exporter": "python",
   "pygments_lexer": "ipython3",
   "version": "3.10.12"
  }
 },
 "nbformat": 4,
 "nbformat_minor": 5
}
